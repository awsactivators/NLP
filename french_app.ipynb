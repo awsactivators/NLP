{
  "cells": [
    {
      "cell_type": "code",
      "execution_count": null,
      "metadata": {
        "colab": {
          "base_uri": "https://localhost:8080/"
        },
        "id": "TZSN_mpvC8HD",
        "outputId": "e0ddc72d-5bd6-486f-c941-0ba326e5b94b"
      },
      "outputs": [],
      "source": [
        "! pip install torch torchvision torchaudio pypdf"
      ]
    },
    {
      "cell_type": "code",
      "execution_count": null,
      "metadata": {
        "id": "dKFCap9VC8HD"
      },
      "outputs": [],
      "source": [
        "from transformers import pipeline\n",
        "from pypdf import PdfReader"
      ]
    },
    {
      "cell_type": "code",
      "execution_count": null,
      "metadata": {
        "id": "yqZp8ISkC8HD"
      },
      "outputs": [],
      "source": [
        "# Load the multilingual summarization model\n",
        "summarizer = pipeline(task=\"summarization\", model=\"facebook/mbart-large-50-many-to-many-mmt\")\n"
      ]
    },
    {
      "cell_type": "markdown",
      "metadata": {
        "id": "-j8VmOOaLVmd"
      },
      "source": [
        "##Trying out first with text data"
      ]
    },
    {
      "cell_type": "code",
      "execution_count": null,
      "metadata": {
        "colab": {
          "base_uri": "https://localhost:8080/",
          "height": 178
        },
        "id": "qnRJce6WC8HD",
        "outputId": "9a7edafe-ab49-4482-8e47-c97d1464fc50"
      },
      "outputs": [],
      "source": [
        "reader = PdfReader(\"/content/sample_data/data3.pdf\")\n",
        "number_of_pages = len(reader.pages)\n",
        "page = reader.pages[0]\n",
        "text = page.extract_text()\n",
        "text"
      ]
    },
    {
      "cell_type": "code",
      "execution_count": null,
      "metadata": {
        "id": "2xgRNZV9aHLD"
      },
      "outputs": [],
      "source": [
        "# Specify the source language directly in the summarizer function call\n",
        "results = summarizer(text, max_length=100, do_sample=False)\n"
      ]
    },
    {
      "cell_type": "code",
      "execution_count": null,
      "metadata": {
        "colab": {
          "base_uri": "https://localhost:8080/",
          "height": 89
        },
        "id": "R7G6oNI1C8HE",
        "outputId": "c00e7a63-14a1-41a3-e356-e43ded3f704e"
      },
      "outputs": [],
      "source": [
        "results[0][\"summary_text\"]"
      ]
    },
    {
      "cell_type": "markdown",
      "metadata": {
        "id": "K_fcTTOFLbm1"
      },
      "source": [
        "##Further Modifications to include pdf that has images as well as links"
      ]
    }
  ],
  "metadata": {
    "accelerator": "GPU",
    "colab": {
      "gpuType": "T4",
      "provenance": []
    },
    "kernelspec": {
      "display_name": "Python 3",
      "name": "python3"
    },
    "language_info": {
      "codemirror_mode": {
        "name": "ipython",
        "version": 3
      },
      "file_extension": ".py",
      "mimetype": "text/x-python",
      "name": "python",
      "nbconvert_exporter": "python",
      "pygments_lexer": "ipython3",
      "version": "3.11.5"
    }
  },
  "nbformat": 4,
  "nbformat_minor": 0
}
