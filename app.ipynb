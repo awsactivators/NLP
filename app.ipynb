{
 "cells": [
  {
   "cell_type": "code",
   "execution_count": 8,
   "metadata": {},
   "outputs": [
    {
     "name": "stdout",
     "output_type": "stream",
     "text": [
      "Requirement already satisfied: pypdf in /Users/noah/anaconda3/lib/python3.11/site-packages (4.2.0)\n",
      "Requirement already satisfied: python-docx in /Users/noah/anaconda3/lib/python3.11/site-packages (1.1.0)\n",
      "Requirement already satisfied: langdetect in /Users/noah/anaconda3/lib/python3.11/site-packages (1.0.9)\n",
      "Requirement already satisfied: sentencepiece in /Users/noah/anaconda3/lib/python3.11/site-packages (0.2.0)\n",
      "Requirement already satisfied: sacremoses in /Users/noah/anaconda3/lib/python3.11/site-packages (0.1.1)\n",
      "Requirement already satisfied: transformers[torch] in /Users/noah/anaconda3/lib/python3.11/site-packages (4.39.3)\n",
      "Requirement already satisfied: filelock in /Users/noah/anaconda3/lib/python3.11/site-packages (from transformers[torch]) (3.13.1)\n",
      "Requirement already satisfied: huggingface-hub<1.0,>=0.19.3 in /Users/noah/anaconda3/lib/python3.11/site-packages (from transformers[torch]) (0.20.3)\n",
      "Requirement already satisfied: numpy>=1.17 in /Users/noah/anaconda3/lib/python3.11/site-packages (from transformers[torch]) (1.23.5)\n",
      "Requirement already satisfied: packaging>=20.0 in /Users/noah/anaconda3/lib/python3.11/site-packages (from transformers[torch]) (23.2)\n",
      "Requirement already satisfied: pyyaml>=5.1 in /Users/noah/anaconda3/lib/python3.11/site-packages (from transformers[torch]) (6.0.1)\n",
      "Requirement already satisfied: regex!=2019.12.17 in /Users/noah/anaconda3/lib/python3.11/site-packages (from transformers[torch]) (2023.10.3)\n",
      "Requirement already satisfied: requests in /Users/noah/anaconda3/lib/python3.11/site-packages (from transformers[torch]) (2.31.0)\n",
      "Requirement already satisfied: tokenizers<0.19,>=0.14 in /Users/noah/anaconda3/lib/python3.11/site-packages (from transformers[torch]) (0.15.1)\n",
      "Requirement already satisfied: safetensors>=0.4.1 in /Users/noah/anaconda3/lib/python3.11/site-packages (from transformers[torch]) (0.4.2)\n",
      "Requirement already satisfied: tqdm>=4.27 in /Users/noah/anaconda3/lib/python3.11/site-packages (from transformers[torch]) (4.65.0)\n",
      "Requirement already satisfied: torch in /Users/noah/anaconda3/lib/python3.11/site-packages (from transformers[torch]) (2.2.1)\n",
      "Requirement already satisfied: accelerate>=0.21.0 in /Users/noah/anaconda3/lib/python3.11/site-packages (from transformers[torch]) (0.29.1)\n",
      "Requirement already satisfied: lxml>=3.1.0 in /Users/noah/anaconda3/lib/python3.11/site-packages (from python-docx) (4.9.3)\n",
      "Requirement already satisfied: typing-extensions in /Users/noah/anaconda3/lib/python3.11/site-packages (from python-docx) (4.9.0)\n",
      "Requirement already satisfied: six in /Users/noah/anaconda3/lib/python3.11/site-packages (from langdetect) (1.16.0)\n",
      "Requirement already satisfied: click in /Users/noah/anaconda3/lib/python3.11/site-packages (from sacremoses) (8.1.7)\n",
      "Requirement already satisfied: joblib in /Users/noah/anaconda3/lib/python3.11/site-packages (from sacremoses) (1.2.0)\n",
      "Requirement already satisfied: psutil in /Users/noah/anaconda3/lib/python3.11/site-packages (from accelerate>=0.21.0->transformers[torch]) (5.9.0)\n",
      "Requirement already satisfied: fsspec>=2023.5.0 in /Users/noah/anaconda3/lib/python3.11/site-packages (from huggingface-hub<1.0,>=0.19.3->transformers[torch]) (2023.10.0)\n",
      "Requirement already satisfied: sympy in /Users/noah/anaconda3/lib/python3.11/site-packages (from torch->transformers[torch]) (1.12)\n",
      "Requirement already satisfied: networkx in /Users/noah/anaconda3/lib/python3.11/site-packages (from torch->transformers[torch]) (3.1)\n",
      "Requirement already satisfied: jinja2 in /Users/noah/anaconda3/lib/python3.11/site-packages (from torch->transformers[torch]) (3.1.3)\n",
      "Requirement already satisfied: charset-normalizer<4,>=2 in /Users/noah/anaconda3/lib/python3.11/site-packages (from requests->transformers[torch]) (2.0.4)\n",
      "Requirement already satisfied: idna<4,>=2.5 in /Users/noah/anaconda3/lib/python3.11/site-packages (from requests->transformers[torch]) (3.4)\n",
      "Requirement already satisfied: urllib3<3,>=1.21.1 in /Users/noah/anaconda3/lib/python3.11/site-packages (from requests->transformers[torch]) (1.26.18)\n",
      "Requirement already satisfied: certifi>=2017.4.17 in /Users/noah/anaconda3/lib/python3.11/site-packages (from requests->transformers[torch]) (2024.2.2)\n",
      "Requirement already satisfied: MarkupSafe>=2.0 in /Users/noah/anaconda3/lib/python3.11/site-packages (from jinja2->torch->transformers[torch]) (2.1.3)\n",
      "Requirement already satisfied: mpmath>=0.19 in /Users/noah/anaconda3/lib/python3.11/site-packages (from sympy->torch->transformers[torch]) (1.3.0)\n"
     ]
    }
   ],
   "source": [
    "! pip install -U \"transformers[torch]\" pypdf python-docx langdetect sentencepiece sacremoses"
   ]
  },
  {
   "cell_type": "code",
   "execution_count": 13,
   "metadata": {},
   "outputs": [],
   "source": [
    "import gradio as gr\n",
    "from pypdf import PdfReader\n",
    "import docx\n",
    "import os\n",
    "from langdetect import detect\n",
    "from huggingface_hub import HfApi\n",
    "# Load model directly\n",
    "from transformers import AutoTokenizer, AutoModelForSeq2SeqLM, pipeline\n",
    "\n"
   ]
  },
  {
   "cell_type": "code",
   "execution_count": 14,
   "metadata": {},
   "outputs": [],
   "source": [
    "summarizer = pipeline(task=\"summarization\", model=\"facebook/bart-large-cnn\")\n",
    "\n",
    "tokenizer = AutoTokenizer.from_pretrained(\"facebook/bart-large-cnn\")\n",
    "model = AutoModelForSeq2SeqLM.from_pretrained(\"facebook/bart-large-cnn\")\n",
    "\n",
    "translator_to_french = pipeline(\n",
    "    task=\"translation_en_to_fr\", model=\"Helsinki-NLP/opus-mt-en-fr\"\n",
    ")\n",
    "translator_to_english = pipeline(\n",
    "    task=\"translation_fr_to_en\", model=\"Helsinki-NLP/opus-mt-fr-en\"\n",
    ")\n",
    "\n",
    "MAX_FILE_SIZE = 10000000"
   ]
  },
  {
   "cell_type": "code",
   "execution_count": 11,
   "metadata": {},
   "outputs": [],
   "source": [
    "class TextExtractor:\n",
    "    def __init__(self, doc_location: str):\n",
    "        if doc_location is None:\n",
    "            raise Exception(f\"Please select a PDF to summarize\")\n",
    "        self.doc_location = doc_location\n",
    "\n",
    "    def extract_text_from_pdf(self):\n",
    "        reader = PdfReader(self.doc_location)\n",
    "        text = \"\"\n",
    "\n",
    "        for page in reader.pages:\n",
    "            text += page.extract_text()\n",
    "\n",
    "        return text\n",
    "\n",
    "    def extract_text_from_doc(self):\n",
    "        doc = docx.Document(self.doc_location)\n",
    "        text = \"\"\n",
    "\n",
    "        for paragraph in doc.paragraphs:\n",
    "            text += paragraph.text + \"\\n\"\n",
    "        return text\n",
    "\n",
    "    def extract_text_from_txt(self):\n",
    "        with open(self.doc_location, \"r\", encoding=\"utf-8\") as file:\n",
    "            text = file.read()\n",
    "        return text\n",
    "\n",
    "    def extract_text_from_txt(self):\n",
    "        with open(self.doc_location, \"r\", encoding=\"utf-8\") as file:\n",
    "            text = file.read()\n",
    "        return text\n",
    "    \n",
    "    def text_length(self):\n",
    "        words = self.text.split()\n",
    "        num_words = len(words)\n",
    "        return num_words\n",
    "\n",
    "    def get_text(self) -> str:\n",
    "        file_extension = os.path.splitext(self.doc_location)[1]\n",
    "        if file_extension == \".pdf\":\n",
    "            self.text = self.extract_text_from_pdf()\n",
    "        elif file_extension == \".txt\":\n",
    "            self.text = self.extract_text_from_txt()\n",
    "        elif file_extension == \".docx\" or file_extension == \".doc\":\n",
    "            self.text = self.extract_text_from_doc()\n",
    "        else:\n",
    "            raise gr.Error(f\"We only support .pdf, .txt, .doc and .docx files\")\n",
    "\n",
    "        if len(self.text) > MAX_FILE_SIZE:\n",
    "            raise gr.Error(\n",
    "                f\"Document exceeds the maximum supported size of {MAX_FILE_SIZE} characters.\"\n",
    "            )\n",
    "\n",
    "        return self.text"
   ]
  },
  {
   "cell_type": "code",
   "execution_count": 22,
   "metadata": {},
   "outputs": [],
   "source": [
    "text_extractor = TextExtractor(\"data/25-PAGE-FRENCH-TEXT.pdf\")\n",
    "text = text_extractor.get_text()\n",
    "\n",
    "text_length = text_extractor.text_length()\n",
    "summary_length = int(text_length / 2)\n",
    "\n",
    "try:\n",
    "  summary = summarizer(text, max_length=summary_length, do_sample=False)[0][\"summary_text\"]\n",
    "except Exception as ex:\n",
    "  max_length = tokenizer.model_max_length\n",
    "  inputs = tokenizer(text, truncation=True, max_length=max_length, return_tensors=\"pt\")\n",
    "\n",
    "  summary_ids = model.generate(inputs[\"input_ids\"], num_beams=4, max_length=summary_length, early_stopping=True)\n",
    "  summary = tokenizer.decode(summary_ids[0], skip_special_tokens=True)"
   ]
  },
  {
   "cell_type": "code",
   "execution_count": null,
   "metadata": {},
   "outputs": [],
   "source": [
    "%%time\n",
    "text_extractor = TextExtractor(\"data/25-PAGE-FRENCH-TEXT.pdf\")\n",
    "text_extractor = TextExtractor(\"data/pd-file-example.pdf\")\n",
    "text = text_extractor.get_text()\n",
    "\n",
    "text_length = text_extractor.text_length()\n",
    "summary_length = int(text_length / 2)\n"
   ]
  },
  {
   "cell_type": "code",
   "execution_count": 23,
   "metadata": {},
   "outputs": [
    {
     "data": {
      "text/plain": [
       "'fr'"
      ]
     },
     "execution_count": 23,
     "metadata": {},
     "output_type": "execute_result"
    }
   ],
   "source": [
    "detected_lang = detect(summary)\n",
    "detected_lang"
   ]
  },
  {
   "cell_type": "markdown",
   "metadata": {},
   "source": [
    "## Update space"
   ]
  },
  {
   "cell_type": "code",
   "execution_count": 28,
   "metadata": {},
   "outputs": [
    {
     "data": {
      "text/plain": [
       "CommitInfo(commit_url='https://huggingface.co/spaces/noahnsimbe/text-summarizer/commit/81226c4cce482f0b896b563fbd8ff779f5f576d2', commit_message='Upload app.py with huggingface_hub', commit_description='', oid='81226c4cce482f0b896b563fbd8ff779f5f576d2', pr_url=None, pr_revision=None, pr_num=None)"
      ]
     },
     "execution_count": 28,
     "metadata": {},
     "output_type": "execute_result"
    }
   ],
   "source": [
    "token = os.getenv(\"HUGGINFACE_TAKEN\")\n",
    "api = HfApi(token=token)\n",
    "api.upload_file(\n",
    "    path_or_fileobj=\"requirements.txt\",\n",
    "    path_in_repo=\"requirements.txt\",\n",
    "    repo_id=\"noahnsimbe/text-summarizer\",\n",
    "    repo_type=\"space\",\n",
    ")\n",
    "api.upload_file(\n",
    "    path_or_fileobj=\"app.py\",\n",
    "    path_in_repo=\"app.py\",\n",
    "    repo_id=\"noahnsimbe/text-summarizer\",\n",
    "    repo_type=\"space\",\n",
    ")"
   ]
  }
 ],
 "metadata": {
  "kernelspec": {
   "display_name": "venv",
   "language": "python",
   "name": "python3"
  },
  "language_info": {
   "codemirror_mode": {
    "name": "ipython",
    "version": 3
   },
   "file_extension": ".py",
   "mimetype": "text/x-python",
   "name": "python",
   "nbconvert_exporter": "python",
   "pygments_lexer": "ipython3",
   "version": "3.11.5"
  }
 },
 "nbformat": 4,
 "nbformat_minor": 2
}
