{
 "cells": [
  {
   "cell_type": "code",
   "execution_count": null,
   "metadata": {},
   "outputs": [],
   "source": [
    "! pip install -U \"transformers[torch]\" pypdf python-docx langdetect sentencepiece sacremoses"
   ]
  },
  {
   "cell_type": "code",
   "execution_count": null,
   "metadata": {},
   "outputs": [],
   "source": [
    "import os\n",
    "from langdetect import detect\n",
    "from huggingface_hub import HfApi\n",
    "from text_extractor import TextExtractor\n",
    "from transformers import AutoTokenizer, AutoModelForSeq2SeqLM, pipeline"
   ]
  },
  {
   "cell_type": "code",
   "execution_count": null,
   "metadata": {},
   "outputs": [],
   "source": [
    "model_name = \"facebook/bart-large-cnn\"\n",
    "# model_name = \"google-t5/t5-small\"\n",
    "summarizer = pipeline(task=\"summarization\", model=model_name)\n",
    "tokenizer = AutoTokenizer.from_pretrained(model_name)\n",
    "model = AutoModelForSeq2SeqLM.from_pretrained(model_name)\n",
    "\n",
    "translator_to_french = pipeline(\n",
    "    task=\"translation_en_to_fr\", model=\"Helsinki-NLP/opus-mt-en-fr\"\n",
    ")\n",
    "translator_to_english = pipeline(\n",
    "    task=\"translation_fr_to_en\", model=\"Helsinki-NLP/opus-mt-fr-en\"\n",
    ")"
   ]
  },
  {
   "cell_type": "code",
   "execution_count": null,
   "metadata": {},
   "outputs": [],
   "source": [
    "text_extractor = TextExtractor(\"data/25-PAGE-FRENCH-TEXT.pdf\")\n",
    "text, word_count = text_extractor.get_text()\n",
    "summary_length = int(word_count / 2)\n",
    "\n",
    "try:\n",
    "    summary = summarizer(text, max_length=summary_length, do_sample=False)[0][\n",
    "        \"summary_text\"\n",
    "    ]\n",
    "except Exception as ex:\n",
    "    max_length = tokenizer.model_max_length\n",
    "    inputs = tokenizer(\n",
    "        text, truncation=True, max_length=max_length, return_tensors=\"pt\"\n",
    "    )\n",
    "\n",
    "    summary_ids = model.generate(\n",
    "        inputs[\"input_ids\"], num_beams=4, max_length=summary_length, early_stopping=True\n",
    "    )\n",
    "    summary = tokenizer.decode(summary_ids[0], skip_special_tokens=True)"
   ]
  },
  {
   "cell_type": "code",
   "execution_count": null,
   "metadata": {},
   "outputs": [],
   "source": [
    "summary"
   ]
  },
  {
   "cell_type": "code",
   "execution_count": null,
   "metadata": {},
   "outputs": [],
   "source": [
    "detected_lang = detect(summary)\n",
    "detected_lang"
   ]
  },
  {
   "cell_type": "markdown",
   "metadata": {},
   "source": [
    "## Update space"
   ]
  },
  {
   "cell_type": "code",
   "execution_count": null,
   "metadata": {},
   "outputs": [],
   "source": [
    "token = os.getenv(\"HUGGINFACE_TOKEN\")\n",
    "repo_id = \"noahnsimbe/text-summarizer\"\n",
    "\n",
    "api = HfApi(token=token)\n",
    "api.upload_file(\n",
    "    path_or_fileobj=\"requirements.txt\",\n",
    "    path_in_repo=\"requirements.txt\",\n",
    "    repo_id=repo_id,\n",
    "    repo_type=\"space\",\n",
    ")\n",
    "api.upload_file(\n",
    "    path_or_fileobj=\"app.py\",\n",
    "    path_in_repo=\"app.py\",\n",
    "    repo_id=repo_id,\n",
    "    repo_type=\"space\",\n",
    ")\n",
    "api.upload_file(\n",
    "    path_or_fileobj=\"text_extractor.py\",\n",
    "    path_in_repo=\"text_extractor.py\",\n",
    "    repo_id=repo_id,\n",
    "    repo_type=\"space\",\n",
    ")\n",
    "api.upload_file(\n",
    "    path_or_fileobj=\"space-README.md\",\n",
    "    path_in_repo=\"README.md\",\n",
    "    repo_id=repo_id,\n",
    "    repo_type=\"space\",\n",
    ")"
   ]
  }
 ],
 "metadata": {
  "kernelspec": {
   "display_name": "Python 3 (ipykernel)",
   "language": "python",
   "name": "python3"
  },
  "language_info": {
   "codemirror_mode": {
    "name": "ipython",
    "version": 3
   },
   "file_extension": ".py",
   "mimetype": "text/x-python",
   "name": "python",
   "nbconvert_exporter": "python",
   "pygments_lexer": "ipython3",
   "version": "3.11.5"
  }
 },
 "nbformat": 4,
 "nbformat_minor": 4
}
